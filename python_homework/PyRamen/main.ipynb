{
 "cells": [
  {
   "cell_type": "code",
   "execution_count": 36,
   "id": "fc846c8c-1c7a-48cc-b90c-799b465d8b74",
   "metadata": {},
   "outputs": [
    {
     "name": "stdout",
     "output_type": "stream",
     "text": [
      "spicy miso ramen does not match black sesame creme brulee! NO MATCH!\n",
      "tori paitan ramen does not match black sesame creme brulee! NO MATCH!\n",
      "truffle butter ramen does not match black sesame creme brulee! NO MATCH!\n",
      "tonkotsu ramen does not match black sesame creme brulee! NO MATCH!\n",
      "vegetarian spicy miso does not match black sesame creme brulee! NO MATCH!\n",
      "shio ramen does not match black sesame creme brulee! NO MATCH!\n",
      "miso crab ramen does not match black sesame creme brulee! NO MATCH!\n",
      "nagomi shoyu does not match black sesame creme brulee! NO MATCH!\n",
      "soft-shell miso crab ramen does not match black sesame creme brulee! NO MATCH!\n",
      "burnt garlic tonkotsu ramen does not match black sesame creme brulee! NO MATCH!\n",
      "vegetarian curry + king trumpet mushroom ramen does not match black sesame creme brulee! NO MATCH!\n"
     ]
    }
   ],
   "source": [
    "#Import library to read csv file\n",
    "import csv\n",
    "\n",
    "#Define variables\n",
    "menu = []\n",
    "sales = []\n",
    "report = {}\n",
    "\n",
    "#Open csv file menu_data.csv\n",
    "with open('./Resources/menu_data.csv') as menu_data:\n",
    "    #Create variable menu_data from csvreader\n",
    "    menu_data = csv.reader(menu_data, delimiter=',')\n",
    "    #Skip header labels\n",
    "    Header = next(menu_data)\n",
    "    #Print header\n",
    "    for row in menu_data:\n",
    "        menu.append(row)\n",
    "\n",
    "#Open csv file sales_data.csv\n",
    "with open('./Resources/sales_data.csv') as sales_data:\n",
    "    #Create variable sales_data from csvreader\n",
    "    sales_data = csv.reader(sales_data, delimiter=',')\n",
    "    #Skip header labels\n",
    "    Header = next(sales_data)\n",
    "    #Print header\n",
    "    for row in sales_data:\n",
    "        sales.append(row)\n",
    "\n",
    "#Create dict for each item in menu\n",
    "for sale_row in sales:\n",
    "    sale_item = sale_row[4]\n",
    "    quantity = sale_row[3]\n",
    "    #Extras from sales, report\n",
    "    if sale_item not in report:\n",
    "        report[sale_item] = {'01-count': 0, '02-revenue': 0, '03-cogs': 0, '04-profit': 0}\n",
    "        print(f'{sale_item} does not match {menu_item}! NO MATCH!')\n",
    "     #Extras price & cost calculate revenue and cogs\n",
    "    if sale_item in report:\n",
    "        report[sale_item]['01-count'] += int(quantity)\n",
    "    #Read into menu\n",
    "    for menu_row in menu:\n",
    "        menu_item = menu_row[0]\n",
    "        menu_price = menu_row[3]\n",
    "        menu_cost = menu_row[4]\n",
    "    #Calculate price & cost    \n",
    "        if sale_item == menu_item:\n",
    "            report[menu_item]['02-revenue'] += (int(menu_price) * int(quantity))\n",
    "            report[menu_item]['03-cogs'] += (int(menu_cost) * int(quantity))\n",
    "\n",
    "#Use revenue and cogs to calculate profit\n",
    "for item, value, in report.items():\n",
    "    for key in value:\n",
    "        cogs = report[item]['03-cogs']\n",
    "        revenue = report[item]['02-revenue']\n",
    "        if key == '04-profit':\n",
    "            report[item][key] = revenue - cogs\n",
    "\n",
    "#Write file pyramen_analysis.txt\n",
    "with open('pyramen_analysis.txt' , 'w') as pyramen_analysis:\n",
    "    pyramen_analysis.write('Financial Report for PyRamen.\\n')\n",
    "    for key in report:\n",
    "        pyramen_analysis.write(f'{key} {report[key]}\\n')"
   ]
  }
 ],
 "metadata": {
  "kernelspec": {
   "display_name": "Python 3 (ipykernel)",
   "language": "python",
   "name": "python3"
  },
  "language_info": {
   "codemirror_mode": {
    "name": "ipython",
    "version": 3
   },
   "file_extension": ".py",
   "mimetype": "text/x-python",
   "name": "python",
   "nbconvert_exporter": "python",
   "pygments_lexer": "ipython3",
   "version": "3.9.12"
  }
 },
 "nbformat": 4,
 "nbformat_minor": 5
}
