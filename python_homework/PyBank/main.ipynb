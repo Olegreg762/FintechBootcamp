{
 "cells": [
  {
   "cell_type": "code",
   "execution_count": 190,
   "id": "c27c9b01-78b5-4afd-a09e-ae1bb4977831",
   "metadata": {},
   "outputs": [
    {
     "name": "stdout",
     "output_type": "stream",
     "text": [
      "Total Months: 86 \n",
      "Greatest Increase: Feb-2012 : ($1170593)\n",
      "Greatest Decrease: Sep-2013 : ($-1196225)\n"
     ]
    }
   ],
   "source": [
    "import csv\n",
    "\n",
    "\n",
    "# Define Variables\n",
    "budget_file = open('./budget_data.csv')\n",
    "month = ''\n",
    "budget = 0\n",
    "profit = 0\n",
    "\n",
    "# Total number months in file\n",
    "\n",
    "total_months = len(budget_file.readlines())-1\n",
    "print(f'Total Months: {total_months} ')\n",
    "\n",
    "# Profit/loss over period\n",
    "\n",
    "\n",
    "\n",
    "# Average change in Profit/loss\n",
    "\n",
    "\n",
    "\n",
    "#Greatest Increase in Profits\n",
    "\n",
    "with open('./budget_data.csv') as budget_file:\n",
    "    csvbudget = csv.reader(budget_file, delimiter=',')\n",
    "    Uprofit = 0\n",
    "    for row in csvbudget:\n",
    "        if Uprofit == 0:\n",
    "            Uprofit = 1\n",
    "        else:\n",
    "            if budget < int(row[1]):\n",
    "                month = row[0]\n",
    "                budget = int(row[1])\n",
    "print(f'Greatest Increase: {month} : (${budget})')\n",
    "\n",
    "# Greatest Decrease in Profits\n",
    "\n",
    "with open('./budget_data.csv') as budget_file:\n",
    "    csvbudget = csv.reader(budget_file, delimiter=',')\n",
    "    Dprofit = 0\n",
    "    for row in csvbudget:\n",
    "        if Dprofit == 0:\n",
    "            Dprofit = 1\n",
    "        else:\n",
    "            if budget > int(row[1]):\n",
    "                month = row[0]\n",
    "                budget = int(row[1])\n",
    "print(f'Greatest Decrease: {month} : (${budget})')\n",
    "\n",
    "\n",
    "# Print and export to .txt file\n",
    "\n",
    "\n"
   ]
  }
 ],
 "metadata": {
  "kernelspec": {
   "display_name": "Python 3 (ipykernel)",
   "language": "python",
   "name": "python3"
  },
  "language_info": {
   "codemirror_mode": {
    "name": "ipython",
    "version": 3
   },
   "file_extension": ".py",
   "mimetype": "text/x-python",
   "name": "python",
   "nbconvert_exporter": "python",
   "pygments_lexer": "ipython3",
   "version": "3.9.12"
  },
  "vscode": {
   "interpreter": {
    "hash": "bf021cadcefd6e7884c0e38ba014f6f38cb10cb7b4b2b37018dddcb4d08c875e"
   }
  }
 },
 "nbformat": 4,
 "nbformat_minor": 5
}
