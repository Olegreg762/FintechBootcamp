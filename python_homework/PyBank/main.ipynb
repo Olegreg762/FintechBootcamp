{
 "cells": [
  {
   "cell_type": "code",
   "execution_count": 189,
   "id": "c27c9b01-78b5-4afd-a09e-ae1bb4977831",
   "metadata": {},
   "outputs": [
    {
     "name": "stdout",
     "output_type": "stream",
     "text": [
      "Total Months: 86 \n"
     ]
    },
    {
     "ename": "TypeError",
     "evalue": "'builtin_function_or_method' object is not iterable",
     "output_type": "error",
     "traceback": [
      "\u001b[0;31m---------------------------------------------------------------------------\u001b[0m",
      "\u001b[0;31mTypeError\u001b[0m                                 Traceback (most recent call last)",
      "\u001b[1;32m/Users/playb3yond40gb/PycharmProjects/FintechBootcamp/python_homework/PyBank/main.ipynb Cell 2\u001b[0m in \u001b[0;36m<cell line: 18>\u001b[0;34m()\u001b[0m\n\u001b[1;32m     <a href='vscode-notebook-cell:/Users/playb3yond40gb/PycharmProjects/FintechBootcamp/python_homework/PyBank/main.ipynb#W1sZmlsZQ%3D%3D?line=12'>13</a>\u001b[0m \u001b[39mprint\u001b[39m(\u001b[39mf\u001b[39m\u001b[39m'\u001b[39m\u001b[39mTotal Months: \u001b[39m\u001b[39m{\u001b[39;00mtotal_months\u001b[39m}\u001b[39;00m\u001b[39m \u001b[39m\u001b[39m'\u001b[39m)\n\u001b[1;32m     <a href='vscode-notebook-cell:/Users/playb3yond40gb/PycharmProjects/FintechBootcamp/python_homework/PyBank/main.ipynb#W1sZmlsZQ%3D%3D?line=15'>16</a>\u001b[0m \u001b[39m# Profit/loss over period\u001b[39;00m\n\u001b[0;32m---> <a href='vscode-notebook-cell:/Users/playb3yond40gb/PycharmProjects/FintechBootcamp/python_homework/PyBank/main.ipynb#W1sZmlsZQ%3D%3D?line=17'>18</a>\u001b[0m otal_months \u001b[39m=\u001b[39m \u001b[39msum\u001b[39;49m(budget_file\u001b[39m.\u001b[39;49mreadlines)\n\u001b[1;32m     <a href='vscode-notebook-cell:/Users/playb3yond40gb/PycharmProjects/FintechBootcamp/python_homework/PyBank/main.ipynb#W1sZmlsZQ%3D%3D?line=18'>19</a>\u001b[0m \u001b[39mprint\u001b[39m(\u001b[39mf\u001b[39m\u001b[39m'\u001b[39m\u001b[39mTotal Months: \u001b[39m\u001b[39m{\u001b[39;00motal_months\u001b[39m}\u001b[39;00m\u001b[39m \u001b[39m\u001b[39m'\u001b[39m)\n\u001b[1;32m     <a href='vscode-notebook-cell:/Users/playb3yond40gb/PycharmProjects/FintechBootcamp/python_homework/PyBank/main.ipynb#W1sZmlsZQ%3D%3D?line=22'>23</a>\u001b[0m \u001b[39m# Average change in Profit/loss\u001b[39;00m\n\u001b[1;32m     <a href='vscode-notebook-cell:/Users/playb3yond40gb/PycharmProjects/FintechBootcamp/python_homework/PyBank/main.ipynb#W1sZmlsZQ%3D%3D?line=23'>24</a>\u001b[0m \n\u001b[1;32m     <a href='vscode-notebook-cell:/Users/playb3yond40gb/PycharmProjects/FintechBootcamp/python_homework/PyBank/main.ipynb#W1sZmlsZQ%3D%3D?line=24'>25</a>\u001b[0m \n\u001b[1;32m     <a href='vscode-notebook-cell:/Users/playb3yond40gb/PycharmProjects/FintechBootcamp/python_homework/PyBank/main.ipynb#W1sZmlsZQ%3D%3D?line=25'>26</a>\u001b[0m \n\u001b[1;32m     <a href='vscode-notebook-cell:/Users/playb3yond40gb/PycharmProjects/FintechBootcamp/python_homework/PyBank/main.ipynb#W1sZmlsZQ%3D%3D?line=26'>27</a>\u001b[0m \u001b[39m#Greatest Increase in Profits\u001b[39;00m\n",
      "\u001b[0;31mTypeError\u001b[0m: 'builtin_function_or_method' object is not iterable"
     ]
    }
   ],
   "source": [
    "import csv\n",
    "\n",
    "\n",
    "# Define Variables\n",
    "budget_file = open('./budget_data.csv')\n",
    "month = ''\n",
    "budget = 0\n",
    "profit = 0\n",
    "\n",
    "# Total number months in file\n",
    "\n",
    "total_months = len(budget_file.readlines())-1\n",
    "print(f'Total Months: {total_months} ')\n",
    "\n",
    "# Profit/loss over period\n",
    "\n",
    "\n",
    "\n",
    "# Average change in Profit/loss\n",
    "\n",
    "\n",
    "\n",
    "#Greatest Increase in Profits\n",
    "\n",
    "with open('./budget_data.csv') as budget_file:\n",
    "    csvbudget = csv.reader(budget_file, delimiter=',')\n",
    "    count = 0\n",
    "    for row in csvbudget:\n",
    "        if count == 0:\n",
    "            count = 1\n",
    "        else:\n",
    "            if budget < int(row[1]):\n",
    "                month = row[0]\n",
    "                budget = int(row[1])\n",
    "print(f'Greatest Increase: {month} : (${budget})')\n",
    "\n",
    "# Greatest Decrease in Profits\n",
    "\n",
    "with open('./budget_data.csv') as budget_file:\n",
    "    csvbudget = csv.reader(budget_file, delimiter=',')\n",
    "    count = 0\n",
    "    for row in csvbudget:\n",
    "        if count == 0:\n",
    "            count = 1\n",
    "        else:\n",
    "            if budget > int(row[1]):\n",
    "                month = row[0]\n",
    "                budget = int(row[1])\n",
    "print(f'Greatest Decrease: {month} : (${budget})')\n",
    "\n",
    "\n",
    "# Print and export to .txt file\n",
    "\n",
    "\n"
   ]
  }
 ],
 "metadata": {
  "kernelspec": {
   "display_name": "Python 3 (ipykernel)",
   "language": "python",
   "name": "python3"
  },
  "language_info": {
   "codemirror_mode": {
    "name": "ipython",
    "version": 3
   },
   "file_extension": ".py",
   "mimetype": "text/x-python",
   "name": "python",
   "nbconvert_exporter": "python",
   "pygments_lexer": "ipython3",
   "version": "3.9.12"
  },
  "vscode": {
   "interpreter": {
    "hash": "bf021cadcefd6e7884c0e38ba014f6f38cb10cb7b4b2b37018dddcb4d08c875e"
   }
  }
 },
 "nbformat": 4,
 "nbformat_minor": 5
}
