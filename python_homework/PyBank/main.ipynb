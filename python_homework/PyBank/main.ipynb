{
 "cells": [
  {
   "cell_type": "code",
   "execution_count": 29,
   "id": "9f1aade3-5cc8-4350-8c41-b91d411fcc01",
   "metadata": {},
   "outputs": [
    {
     "name": "stdout",
     "output_type": "stream",
     "text": [
      "86\n",
      "38382578\n",
      "the average 446309.0465116279\n"
     ]
    }
   ],
   "source": [
    "from email import header\n",
    "import pandas as pd\n",
    "\n",
    "# Total number months in file\n",
    "months = pd.read_csv('budget_data.csv')\n",
    "print(months[months.columns[0]].count())\n",
    "\n",
    "# Profit/loss over period \n",
    "total = pd.read_csv('budget_data.csv')\n",
    "print (total[total.columns[1]].sum())\n",
    "\n",
    "#Average change in Profit/loss\n",
    "average = pd.read_csv('budget_data.csv')\n",
    "print (\"the average\", average[average.columns[1]].mean())\n",
    "\n"
   ]
  },
  {
   "cell_type": "code",
   "execution_count": null,
   "id": "c27c9b01-78b5-4afd-a09e-ae1bb4977831",
   "metadata": {},
   "outputs": [],
   "source": []
  }
 ],
 "metadata": {
  "kernelspec": {
   "display_name": "Python 3 (ipykernel)",
   "language": "python",
   "name": "python3"
  },
  "language_info": {
   "codemirror_mode": {
    "name": "ipython",
    "version": 3
   },
   "file_extension": ".py",
   "mimetype": "text/x-python",
   "name": "python",
   "nbconvert_exporter": "python",
   "pygments_lexer": "ipython3",
   "version": "3.9.12"
  },
  "vscode": {
   "interpreter": {
    "hash": "bf021cadcefd6e7884c0e38ba014f6f38cb10cb7b4b2b37018dddcb4d08c875e"
   }
  }
 },
 "nbformat": 4,
 "nbformat_minor": 5
}
