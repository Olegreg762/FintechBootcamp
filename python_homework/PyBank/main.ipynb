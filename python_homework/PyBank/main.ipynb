{
 "cells": [
  {
   "cell_type": "code",
   "execution_count": 136,
   "id": "7951f4e2",
   "metadata": {},
   "outputs": [
    {
     "name": "stdout",
     "output_type": "stream",
     "text": [
      "Financial Analysis\n",
      "----------------------------\n",
      "Total Months: 86\n",
      "Total: $38,382,578\n",
      "Average Change: $-2,315.12\n",
      "Greatest Increase in Profits: Feb-2012 $1,926,159\n",
      "Greatest Decrease in Profits: Sep-2013 $-2,196,167\n"
     ]
    }
   ],
   "source": [
    "#Imports library to read csv file\n",
    "import csv\n",
    "\n",
    "# Define Variables\n",
    "month = []\n",
    "profit = []\n",
    "profit_change= []\n",
    "\n",
    "# Open csv file \n",
    "with open('./budget_data.csv') as budget_file:\n",
    "    # Create variable csvbudget from csvreader\n",
    "    csvbudget = csv.reader(budget_file, delimiter=',')\n",
    "    # Skip header labels\n",
    "    header = next(csvbudget)\n",
    "    # Iterate rows of csvbudget  \n",
    "    for row in csvbudget: \n",
    "        # Append month and profit to list\n",
    "        month.append(row[0])\n",
    "        profit.append(int(row[1]))\n",
    "        # Iterate profit for monthly change\n",
    "    for i in range(len(profit)-1):\n",
    "        # Difference between 2 months and append change\n",
    "        profit_change.append(profit[i+1]-profit[i])\n",
    "        \n",
    "# Logic for determining greatest increase and decrease in profits\n",
    "uprofit = max(profit_change)\n",
    "dprofit = min(profit_change)\n",
    "\n",
    "# Correlate increase and decrease in to corresponding month\n",
    "incre_month = profit_change.index(max(profit_change)) + 1\n",
    "decre_month = profit_change.index(min(profit_change)) + 1 \n",
    "\n",
    "\n",
    "# Print Analysis\n",
    "print('Financial Analysis')\n",
    "print('----------------------------')\n",
    "print(f'Total Months: {len(month)}')\n",
    "print(f'Total: ${sum(profit):,}')\n",
    "print(f'Average Change: ${round(sum(profit_change)/len(profit_change),2):,}')\n",
    "print(f'Greatest Increase in Profits: {month[incre_month]} ${(int(uprofit)):,}')\n",
    "print(f'Greatest Decrease in Profits: {month[decre_month]} ${(int(dprofit)):,}')\n",
    "\n",
    "# Output text file\n",
    "with open('budget_analysis.txt', 'w') as budget_analysis:\n",
    "\n",
    "    budget_analysis.write('Financial Analysis\\n')\n",
    "    budget_analysis.write('----------------------------\\n')\n",
    "    budget_analysis.write(f'Total Months: {len(month)}\\n')\n",
    "    budget_analysis.write(f'Total: ${sum(profit):,}\\n')\n",
    "    budget_analysis.write(f'Average Change: ${round(sum(profit_change)/len(profit_change),2):,}\\n')\n",
    "    budget_analysis.write(f'Greatest Increase in Profits: {month[incre_month]} ${(int(uprofit)):,}\\n')\n",
    "    budget_analysis.write(f'Greatest Decrease in Profits: {month[decre_month]} ${(int(dprofit)):,}\\n')\n"
   ]
  }
 ],
 "metadata": {
  "kernelspec": {
   "display_name": "Python 3 (ipykernel)",
   "language": "python",
   "name": "python3"
  },
  "language_info": {
   "codemirror_mode": {
    "name": "ipython",
    "version": 3
   },
   "file_extension": ".py",
   "mimetype": "text/x-python",
   "name": "python",
   "nbconvert_exporter": "python",
   "pygments_lexer": "ipython3",
   "version": "3.9.12"
  },
  "vscode": {
   "interpreter": {
    "hash": "bf021cadcefd6e7884c0e38ba014f6f38cb10cb7b4b2b37018dddcb4d08c875e"
   }
  }
 },
 "nbformat": 4,
 "nbformat_minor": 5
}
