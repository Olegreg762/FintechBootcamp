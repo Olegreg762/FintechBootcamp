{
 "cells": [
  {
   "cell_type": "code",
   "execution_count": 6,
   "id": "305b75fc-f611-4e1b-8f1f-b5f2fc433f0f",
   "metadata": {},
   "outputs": [
    {
     "name": "stdout",
     "output_type": "stream",
     "text": [
      "DIAMOND HANDS\n"
     ]
    }
   ],
   "source": [
    "orig = 360.35\n",
    "cur = 293.33\n",
    "incre = (cur - orig)\n",
    "perce_incre = (incre / orig * 100)\n",
    "if perce_incre >= 20:\n",
    "    print(\"SELL WEAK HANDS\")\n",
    "elif perce_incre <= -20:\n",
    "    print(\"BUY THE DIP\")\n",
    "elif perce_incre <= 10:\n",
    "    print(\"DIAMOND HANDS\")"
   ]
  },
  {
   "cell_type": "code",
   "execution_count": null,
   "id": "7b65a106-c4e9-400a-8510-6d2d2714a8d6",
   "metadata": {},
   "outputs": [],
   "source": []
  }
 ],
 "metadata": {
  "kernelspec": {
   "display_name": "Python 3 (ipykernel)",
   "language": "python",
   "name": "python3"
  },
  "language_info": {
   "codemirror_mode": {
    "name": "ipython",
    "version": 3
   },
   "file_extension": ".py",
   "mimetype": "text/x-python",
   "name": "python",
   "nbconvert_exporter": "python",
   "pygments_lexer": "ipython3",
   "version": "3.9.12"
  }
 },
 "nbformat": 4,
 "nbformat_minor": 5
}
