{
 "cells": [
  {
   "cell_type": "code",
   "execution_count": 61,
   "id": "ed0bd39c-70aa-49f3-afce-57a4c2246782",
   "metadata": {},
   "outputs": [
    {
     "name": "stdout",
     "output_type": "stream",
     "text": [
      "Apple price yesterday was 198.87\n",
      "Apple price today is $ 254.32\n",
      "The price increase was $55.45\n",
      "The precent increase was  27.88\n"
     ]
    }
   ],
   "source": [
    "apple_ye = 198.87\n",
    "apple_to = 254.32\n",
    "increase = (apple_to - apple_ye)\n",
    "precent_increase = (increase / apple_ye * 100)\n",
    "print (\"Apple price yesterday was\", (apple_ye))\n",
    "print (\"Apple price today is $\", (apple_to))\n",
    "print (\"The price increase was\",(\"$\"\"{:.2f}\".format(net_increase)))\n",
    "print (\"The precent increase was \", (\"{:.2f}\".format(precent_increase)))"
   ]
  },
  {
   "cell_type": "code",
   "execution_count": null,
   "id": "2c09f84b-776d-46be-b628-22003903e1e5",
   "metadata": {},
   "outputs": [],
   "source": []
  },
  {
   "cell_type": "code",
   "execution_count": null,
   "id": "3b3d49bf-77c3-4951-917a-9d187fd98418",
   "metadata": {},
   "outputs": [],
   "source": []
  },
  {
   "cell_type": "code",
   "execution_count": null,
   "id": "90b034c8-ca98-4a29-9143-38821801367d",
   "metadata": {},
   "outputs": [],
   "source": []
  }
 ],
 "metadata": {
  "kernelspec": {
   "display_name": "dev",
   "language": "python",
   "name": "dev"
  },
  "language_info": {
   "codemirror_mode": {
    "name": "ipython",
    "version": 3
   },
   "file_extension": ".py",
   "mimetype": "text/x-python",
   "name": "python",
   "nbconvert_exporter": "python",
   "pygments_lexer": "ipython3",
   "version": "3.7.13"
  }
 },
 "nbformat": 4,
 "nbformat_minor": 5
}
