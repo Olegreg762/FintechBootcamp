{
 "cells": [
  {
   "cell_type": "code",
   "execution_count": 1,
   "id": "409f4407-5745-4ea5-8ae4-9bf318d2dda6",
   "metadata": {},
   "outputs": [
    {
     "name": "stdout",
     "output_type": "stream",
     "text": [
      "#1 answer: Oooo needs some work\n",
      "#2 answer: this works!\n",
      "#3 answer: you are of drinking age!\n",
      "#4 answer: the above statement is true\n",
      "#5 answer:Can ride bumper cars\n"
     ]
    }
   ],
   "source": [
    "# 1.\n",
    "x = 5\n",
    "y = 10\n",
    "if 2 * x > 10:\n",
    "    print(\"#1 answer: works!\")\n",
    "else:\n",
    "    print(\"#1 answer: Oooo needs some work\")\n",
    "\n",
    "# 2.\n",
    "x = 5\n",
    "y = 10\n",
    "if len(\"Dog\") < x:\n",
    "    print(\"#2 answer: this works!\")\n",
    "else:\n",
    "    print(\"#2 answer:: Still missing out\")\n",
    "\n",
    "# 3.\n",
    "age = 21\n",
    "if age > 20:\n",
    "    print(\"#3 answer: you are of drinking age!\")\n",
    "else:\n",
    "    print(\"#3 answer:: Argggh! You think you can hoodwink me, matey?! You're too young to drink!\")\n",
    "\n",
    "# 4.\n",
    "x = 2\n",
    "y = 5\n",
    "if (x ** 3 >= y) and (y ** 2 < 26):\n",
    "    print(\"#4 answer: the above statement is true\")\n",
    "else:\n",
    "    print(\"#4 answer: the above statement is false\")\n",
    "\n",
    "# 5.\n",
    "height = 66\n",
    "age = 16\n",
    "adult_permission = True\n",
    "\n",
    "if (height > 70) and (age >= 18):\n",
    "    print(\"#5 answer: Can ride all the roller coasters\")\n",
    "elif (height > 65) and (age >= 18):\n",
    "    print(\"#5 answer:Can ride moderate roller coasters\")\n",
    "elif (height > 60) and (age >= 18):\n",
    "    print(\"#5 answer:Can ride light roller coasters\")\n",
    "elif ((height > 50) and (age >= 18)) or ((adult_permission) and (height > 50)):\n",
    "    print(\"#5 answer:Can ride bumper cars\")\n",
    "else:\n",
    "    print(\"#5 answer:Stick to lazy river\")\n"
   ]
  },
  {
   "cell_type": "code",
   "execution_count": null,
   "id": "29e31524-9c12-4a2a-9641-46c751de4dd6",
   "metadata": {},
   "outputs": [],
   "source": []
  }
 ],
 "metadata": {
  "kernelspec": {
   "display_name": "dev",
   "language": "python",
   "name": "dev"
  },
  "language_info": {
   "codemirror_mode": {
    "name": "ipython",
    "version": 3
   },
   "file_extension": ".py",
   "mimetype": "text/x-python",
   "name": "python",
   "nbconvert_exporter": "python",
   "pygments_lexer": "ipython3",
   "version": "3.7.13"
  }
 },
 "nbformat": 4,
 "nbformat_minor": 5
}
